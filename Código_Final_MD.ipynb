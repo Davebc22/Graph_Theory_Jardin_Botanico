{
  "nbformat": 4,
  "nbformat_minor": 0,
  "metadata": {
    "colab": {
      "provenance": []
    },
    "kernelspec": {
      "name": "python3",
      "display_name": "Python 3"
    },
    "language_info": {
      "name": "python"
    }
  },
  "cells": [
    {
      "cell_type": "code",
      "execution_count": null,
      "metadata": {
        "id": "StuM3QDsB7eG"
      },
      "outputs": [],
      "source": [
        "import networkx as nx\n",
        "G=nx.Graph()\n",
        "import pandas as pd\n",
        "elist=pd.read_excel(\"Distancias Colab.xlsx\")\n"
      ]
    },
    {
      "cell_type": "code",
      "source": [
        "elist.head()\n",
        ""
      ],
      "metadata": {
        "colab": {
          "base_uri": "https://localhost:8080/",
          "height": 206
        },
        "id": "X0yHabCJCaLT",
        "outputId": "16fac0d8-e315-4e81-9c5f-59075756d6dd"
      },
      "execution_count": null,
      "outputs": [
        {
          "output_type": "execute_result",
          "data": {
            "text/plain": [
              "  Vertex A Vertex B   Long__m_  Aprox\n",
              "0       x1       x2  50.633920     51\n",
              "1       x2       x3  59.183497     59\n",
              "2       x3       x4  48.639102     49\n",
              "3       x4       x5  88.621071     89\n",
              "4      x5        x6   8.222163      8"
            ],
            "text/html": [
              "\n",
              "  <div id=\"df-23fabce2-aa48-4fe1-9fa1-4a8e915c56cb\">\n",
              "    <div class=\"colab-df-container\">\n",
              "      <div>\n",
              "<style scoped>\n",
              "    .dataframe tbody tr th:only-of-type {\n",
              "        vertical-align: middle;\n",
              "    }\n",
              "\n",
              "    .dataframe tbody tr th {\n",
              "        vertical-align: top;\n",
              "    }\n",
              "\n",
              "    .dataframe thead th {\n",
              "        text-align: right;\n",
              "    }\n",
              "</style>\n",
              "<table border=\"1\" class=\"dataframe\">\n",
              "  <thead>\n",
              "    <tr style=\"text-align: right;\">\n",
              "      <th></th>\n",
              "      <th>Vertex A</th>\n",
              "      <th>Vertex B</th>\n",
              "      <th>Long__m_</th>\n",
              "      <th>Aprox</th>\n",
              "    </tr>\n",
              "  </thead>\n",
              "  <tbody>\n",
              "    <tr>\n",
              "      <th>0</th>\n",
              "      <td>x1</td>\n",
              "      <td>x2</td>\n",
              "      <td>50.633920</td>\n",
              "      <td>51</td>\n",
              "    </tr>\n",
              "    <tr>\n",
              "      <th>1</th>\n",
              "      <td>x2</td>\n",
              "      <td>x3</td>\n",
              "      <td>59.183497</td>\n",
              "      <td>59</td>\n",
              "    </tr>\n",
              "    <tr>\n",
              "      <th>2</th>\n",
              "      <td>x3</td>\n",
              "      <td>x4</td>\n",
              "      <td>48.639102</td>\n",
              "      <td>49</td>\n",
              "    </tr>\n",
              "    <tr>\n",
              "      <th>3</th>\n",
              "      <td>x4</td>\n",
              "      <td>x5</td>\n",
              "      <td>88.621071</td>\n",
              "      <td>89</td>\n",
              "    </tr>\n",
              "    <tr>\n",
              "      <th>4</th>\n",
              "      <td>x5</td>\n",
              "      <td>x6</td>\n",
              "      <td>8.222163</td>\n",
              "      <td>8</td>\n",
              "    </tr>\n",
              "  </tbody>\n",
              "</table>\n",
              "</div>\n",
              "      <button class=\"colab-df-convert\" onclick=\"convertToInteractive('df-23fabce2-aa48-4fe1-9fa1-4a8e915c56cb')\"\n",
              "              title=\"Convert this dataframe to an interactive table.\"\n",
              "              style=\"display:none;\">\n",
              "        \n",
              "  <svg xmlns=\"http://www.w3.org/2000/svg\" height=\"24px\"viewBox=\"0 0 24 24\"\n",
              "       width=\"24px\">\n",
              "    <path d=\"M0 0h24v24H0V0z\" fill=\"none\"/>\n",
              "    <path d=\"M18.56 5.44l.94 2.06.94-2.06 2.06-.94-2.06-.94-.94-2.06-.94 2.06-2.06.94zm-11 1L8.5 8.5l.94-2.06 2.06-.94-2.06-.94L8.5 2.5l-.94 2.06-2.06.94zm10 10l.94 2.06.94-2.06 2.06-.94-2.06-.94-.94-2.06-.94 2.06-2.06.94z\"/><path d=\"M17.41 7.96l-1.37-1.37c-.4-.4-.92-.59-1.43-.59-.52 0-1.04.2-1.43.59L10.3 9.45l-7.72 7.72c-.78.78-.78 2.05 0 2.83L4 21.41c.39.39.9.59 1.41.59.51 0 1.02-.2 1.41-.59l7.78-7.78 2.81-2.81c.8-.78.8-2.07 0-2.86zM5.41 20L4 18.59l7.72-7.72 1.47 1.35L5.41 20z\"/>\n",
              "  </svg>\n",
              "      </button>\n",
              "      \n",
              "  <style>\n",
              "    .colab-df-container {\n",
              "      display:flex;\n",
              "      flex-wrap:wrap;\n",
              "      gap: 12px;\n",
              "    }\n",
              "\n",
              "    .colab-df-convert {\n",
              "      background-color: #E8F0FE;\n",
              "      border: none;\n",
              "      border-radius: 50%;\n",
              "      cursor: pointer;\n",
              "      display: none;\n",
              "      fill: #1967D2;\n",
              "      height: 32px;\n",
              "      padding: 0 0 0 0;\n",
              "      width: 32px;\n",
              "    }\n",
              "\n",
              "    .colab-df-convert:hover {\n",
              "      background-color: #E2EBFA;\n",
              "      box-shadow: 0px 1px 2px rgba(60, 64, 67, 0.3), 0px 1px 3px 1px rgba(60, 64, 67, 0.15);\n",
              "      fill: #174EA6;\n",
              "    }\n",
              "\n",
              "    [theme=dark] .colab-df-convert {\n",
              "      background-color: #3B4455;\n",
              "      fill: #D2E3FC;\n",
              "    }\n",
              "\n",
              "    [theme=dark] .colab-df-convert:hover {\n",
              "      background-color: #434B5C;\n",
              "      box-shadow: 0px 1px 3px 1px rgba(0, 0, 0, 0.15);\n",
              "      filter: drop-shadow(0px 1px 2px rgba(0, 0, 0, 0.3));\n",
              "      fill: #FFFFFF;\n",
              "    }\n",
              "  </style>\n",
              "\n",
              "      <script>\n",
              "        const buttonEl =\n",
              "          document.querySelector('#df-23fabce2-aa48-4fe1-9fa1-4a8e915c56cb button.colab-df-convert');\n",
              "        buttonEl.style.display =\n",
              "          google.colab.kernel.accessAllowed ? 'block' : 'none';\n",
              "\n",
              "        async function convertToInteractive(key) {\n",
              "          const element = document.querySelector('#df-23fabce2-aa48-4fe1-9fa1-4a8e915c56cb');\n",
              "          const dataTable =\n",
              "            await google.colab.kernel.invokeFunction('convertToInteractive',\n",
              "                                                     [key], {});\n",
              "          if (!dataTable) return;\n",
              "\n",
              "          const docLinkHtml = 'Like what you see? Visit the ' +\n",
              "            '<a target=\"_blank\" href=https://colab.research.google.com/notebooks/data_table.ipynb>data table notebook</a>'\n",
              "            + ' to learn more about interactive tables.';\n",
              "          element.innerHTML = '';\n",
              "          dataTable['output_type'] = 'display_data';\n",
              "          await google.colab.output.renderOutput(dataTable, element);\n",
              "          const docLink = document.createElement('div');\n",
              "          docLink.innerHTML = docLinkHtml;\n",
              "          element.appendChild(docLink);\n",
              "        }\n",
              "      </script>\n",
              "    </div>\n",
              "  </div>\n",
              "  "
            ]
          },
          "metadata": {},
          "execution_count": 13
        }
      ]
    },
    {
      "cell_type": "code",
      "source": [
        "elist.drop('Aprox', axis=1,inplace=True)"
      ],
      "metadata": {
        "id": "fWkvh-HkUOYK"
      },
      "execution_count": null,
      "outputs": []
    },
    {
      "cell_type": "code",
      "source": [
        "elist.head()"
      ],
      "metadata": {
        "colab": {
          "base_uri": "https://localhost:8080/",
          "height": 206
        },
        "id": "ctX6HSq9UgVj",
        "outputId": "6768e812-cb50-4cb8-a155-87edd73b1b94"
      },
      "execution_count": null,
      "outputs": [
        {
          "output_type": "execute_result",
          "data": {
            "text/plain": [
              "  Vertex A Vertex B   Long__m_\n",
              "0       x1       x2  50.633920\n",
              "1       x2       x3  59.183497\n",
              "2       x3       x4  48.639102\n",
              "3       x4       x5  88.621071\n",
              "4      x5        x6   8.222163"
            ],
            "text/html": [
              "\n",
              "  <div id=\"df-f8761064-773f-4388-b66b-7b3e7b32ec08\">\n",
              "    <div class=\"colab-df-container\">\n",
              "      <div>\n",
              "<style scoped>\n",
              "    .dataframe tbody tr th:only-of-type {\n",
              "        vertical-align: middle;\n",
              "    }\n",
              "\n",
              "    .dataframe tbody tr th {\n",
              "        vertical-align: top;\n",
              "    }\n",
              "\n",
              "    .dataframe thead th {\n",
              "        text-align: right;\n",
              "    }\n",
              "</style>\n",
              "<table border=\"1\" class=\"dataframe\">\n",
              "  <thead>\n",
              "    <tr style=\"text-align: right;\">\n",
              "      <th></th>\n",
              "      <th>Vertex A</th>\n",
              "      <th>Vertex B</th>\n",
              "      <th>Long__m_</th>\n",
              "    </tr>\n",
              "  </thead>\n",
              "  <tbody>\n",
              "    <tr>\n",
              "      <th>0</th>\n",
              "      <td>x1</td>\n",
              "      <td>x2</td>\n",
              "      <td>50.633920</td>\n",
              "    </tr>\n",
              "    <tr>\n",
              "      <th>1</th>\n",
              "      <td>x2</td>\n",
              "      <td>x3</td>\n",
              "      <td>59.183497</td>\n",
              "    </tr>\n",
              "    <tr>\n",
              "      <th>2</th>\n",
              "      <td>x3</td>\n",
              "      <td>x4</td>\n",
              "      <td>48.639102</td>\n",
              "    </tr>\n",
              "    <tr>\n",
              "      <th>3</th>\n",
              "      <td>x4</td>\n",
              "      <td>x5</td>\n",
              "      <td>88.621071</td>\n",
              "    </tr>\n",
              "    <tr>\n",
              "      <th>4</th>\n",
              "      <td>x5</td>\n",
              "      <td>x6</td>\n",
              "      <td>8.222163</td>\n",
              "    </tr>\n",
              "  </tbody>\n",
              "</table>\n",
              "</div>\n",
              "      <button class=\"colab-df-convert\" onclick=\"convertToInteractive('df-f8761064-773f-4388-b66b-7b3e7b32ec08')\"\n",
              "              title=\"Convert this dataframe to an interactive table.\"\n",
              "              style=\"display:none;\">\n",
              "        \n",
              "  <svg xmlns=\"http://www.w3.org/2000/svg\" height=\"24px\"viewBox=\"0 0 24 24\"\n",
              "       width=\"24px\">\n",
              "    <path d=\"M0 0h24v24H0V0z\" fill=\"none\"/>\n",
              "    <path d=\"M18.56 5.44l.94 2.06.94-2.06 2.06-.94-2.06-.94-.94-2.06-.94 2.06-2.06.94zm-11 1L8.5 8.5l.94-2.06 2.06-.94-2.06-.94L8.5 2.5l-.94 2.06-2.06.94zm10 10l.94 2.06.94-2.06 2.06-.94-2.06-.94-.94-2.06-.94 2.06-2.06.94z\"/><path d=\"M17.41 7.96l-1.37-1.37c-.4-.4-.92-.59-1.43-.59-.52 0-1.04.2-1.43.59L10.3 9.45l-7.72 7.72c-.78.78-.78 2.05 0 2.83L4 21.41c.39.39.9.59 1.41.59.51 0 1.02-.2 1.41-.59l7.78-7.78 2.81-2.81c.8-.78.8-2.07 0-2.86zM5.41 20L4 18.59l7.72-7.72 1.47 1.35L5.41 20z\"/>\n",
              "  </svg>\n",
              "      </button>\n",
              "      \n",
              "  <style>\n",
              "    .colab-df-container {\n",
              "      display:flex;\n",
              "      flex-wrap:wrap;\n",
              "      gap: 12px;\n",
              "    }\n",
              "\n",
              "    .colab-df-convert {\n",
              "      background-color: #E8F0FE;\n",
              "      border: none;\n",
              "      border-radius: 50%;\n",
              "      cursor: pointer;\n",
              "      display: none;\n",
              "      fill: #1967D2;\n",
              "      height: 32px;\n",
              "      padding: 0 0 0 0;\n",
              "      width: 32px;\n",
              "    }\n",
              "\n",
              "    .colab-df-convert:hover {\n",
              "      background-color: #E2EBFA;\n",
              "      box-shadow: 0px 1px 2px rgba(60, 64, 67, 0.3), 0px 1px 3px 1px rgba(60, 64, 67, 0.15);\n",
              "      fill: #174EA6;\n",
              "    }\n",
              "\n",
              "    [theme=dark] .colab-df-convert {\n",
              "      background-color: #3B4455;\n",
              "      fill: #D2E3FC;\n",
              "    }\n",
              "\n",
              "    [theme=dark] .colab-df-convert:hover {\n",
              "      background-color: #434B5C;\n",
              "      box-shadow: 0px 1px 3px 1px rgba(0, 0, 0, 0.15);\n",
              "      filter: drop-shadow(0px 1px 2px rgba(0, 0, 0, 0.3));\n",
              "      fill: #FFFFFF;\n",
              "    }\n",
              "  </style>\n",
              "\n",
              "      <script>\n",
              "        const buttonEl =\n",
              "          document.querySelector('#df-f8761064-773f-4388-b66b-7b3e7b32ec08 button.colab-df-convert');\n",
              "        buttonEl.style.display =\n",
              "          google.colab.kernel.accessAllowed ? 'block' : 'none';\n",
              "\n",
              "        async function convertToInteractive(key) {\n",
              "          const element = document.querySelector('#df-f8761064-773f-4388-b66b-7b3e7b32ec08');\n",
              "          const dataTable =\n",
              "            await google.colab.kernel.invokeFunction('convertToInteractive',\n",
              "                                                     [key], {});\n",
              "          if (!dataTable) return;\n",
              "\n",
              "          const docLinkHtml = 'Like what you see? Visit the ' +\n",
              "            '<a target=\"_blank\" href=https://colab.research.google.com/notebooks/data_table.ipynb>data table notebook</a>'\n",
              "            + ' to learn more about interactive tables.';\n",
              "          element.innerHTML = '';\n",
              "          dataTable['output_type'] = 'display_data';\n",
              "          await google.colab.output.renderOutput(dataTable, element);\n",
              "          const docLink = document.createElement('div');\n",
              "          docLink.innerHTML = docLinkHtml;\n",
              "          element.appendChild(docLink);\n",
              "        }\n",
              "      </script>\n",
              "    </div>\n",
              "  </div>\n",
              "  "
            ]
          },
          "metadata": {},
          "execution_count": 19
        }
      ]
    },
    {
      "cell_type": "code",
      "source": [
        "aristas=[tuple(x) for x in elist.to_records(index=False)]"
      ],
      "metadata": {
        "id": "VZufiUnGTWwF"
      },
      "execution_count": null,
      "outputs": []
    },
    {
      "cell_type": "code",
      "source": [
        "aristas"
      ],
      "metadata": {
        "colab": {
          "base_uri": "https://localhost:8080/"
        },
        "id": "AWwBVoZBUHmU",
        "outputId": "8d4d892e-5280-4940-8d67-64a448373ed3"
      },
      "execution_count": null,
      "outputs": [
        {
          "output_type": "execute_result",
          "data": {
            "text/plain": [
              "[('x1', 'x2', 50.63392),\n",
              " ('x2', 'x3', 59.183497),\n",
              " ('x3', 'x4', 48.639102),\n",
              " ('x4', 'x5', 88.621071),\n",
              " ('x5 ', 'x6', 8.222163),\n",
              " ('x6', 'x7', 20.866163),\n",
              " ('x7', 'x8', 85.015622),\n",
              " ('x8', 'x9', 48.259641),\n",
              " ('x9', 'x10', 85.669511),\n",
              " ('x10 ', 'x11', 266.795944),\n",
              " ('x11', 'x12', 25.434379),\n",
              " ('x12', 'x13', 26.391079),\n",
              " ('x11', 'x13', 26.361887),\n",
              " ('x13', 'x14', 124.762776),\n",
              " ('x14', 'x23', 96.180816),\n",
              " ('x23', 'x26', 106.694738),\n",
              " ('x23', 'x25', 64.175457),\n",
              " ('x25', 'x9', 134.446595),\n",
              " ('x25', 'x24', 59.270925),\n",
              " ('x24', 'x23', 70.401995),\n",
              " ('x14', 'x15', 133.163667),\n",
              " ('x15 ', 'x16', 212.625349),\n",
              " ('x16', 'x17', 21.731537),\n",
              " ('x17', 'x20', 119.104671),\n",
              " ('x20', 'x4', 30.159549),\n",
              " ('x20', 'x3', 31.727208),\n",
              " ('x3', 'x18', 25.208101),\n",
              " ('x18', 'x19', 7.429563),\n",
              " ('x18', 'x20', 28.082878),\n",
              " ('x20 ', 'x36', 113.98941),\n",
              " ('x36', 'x5', 64.750406),\n",
              " ('x7', 'x8', 85.374772),\n",
              " ('x34', 'x36', 12.5539),\n",
              " ('x36', 'x35', 22.573689),\n",
              " ('x34', 'x35', 19.223611),\n",
              " ('x35', 'x31', 19.830396),\n",
              " ('x31', 'x32', 15.692786),\n",
              " ('x32', 'x30', 14.179602),\n",
              " ('x30', 'x31', 31.137754),\n",
              " ('x30', 'x27', 15.812981),\n",
              " ('x27', 'x28', 14.113261),\n",
              " ('x32', 'x33', 41.851463),\n",
              " ('x33', 'x7', 75.597673),\n",
              " ('x6', 'x33', 81.818199),\n",
              " ('x33', 'x8', 109.215573),\n",
              " ('x27', 'x24', 80.578573),\n",
              " ('x24', 'x16', 270.992725),\n",
              " ('x16', 'x21', 38.215387),\n",
              " ('x21', 'x22', 4.629395),\n",
              " ('x22', 'x15', 176.665742),\n",
              " ('x26', 'x26', 66.43344),\n",
              " ('x28', 'x29', 59.099203),\n",
              " ('x21', 'x22', 237.127667),\n",
              " ('x28', 'x29', 27.537981),\n",
              " ('x28', 'x29', 61.389468)]"
            ]
          },
          "metadata": {},
          "execution_count": 21
        }
      ]
    },
    {
      "cell_type": "code",
      "source": [
        "G.add_weighted_edges_from(aristas)"
      ],
      "metadata": {
        "id": "Sp5RO-wEUMCS"
      },
      "execution_count": null,
      "outputs": []
    },
    {
      "cell_type": "code",
      "source": [
        "G.edges"
      ],
      "metadata": {
        "colab": {
          "base_uri": "https://localhost:8080/"
        },
        "id": "wQbn-v8VU5-6",
        "outputId": "0c2a121a-8d2f-4e37-8af4-a2f6bc4313ed"
      },
      "execution_count": null,
      "outputs": [
        {
          "output_type": "execute_result",
          "data": {
            "text/plain": [
              "EdgeView([('x1', 'x2'), ('x2', 'x3'), ('x3', 'x4'), ('x3', 'x20'), ('x3', 'x18'), ('x4', 'x5'), ('x4', 'x20'), ('x5', 'x36'), ('x5 ', 'x6'), ('x6', 'x7'), ('x6', 'x33'), ('x7', 'x8'), ('x7', 'x33'), ('x8', 'x9'), ('x8', 'x33'), ('x9', 'x10'), ('x9', 'x25'), ('x10 ', 'x11'), ('x11', 'x12'), ('x11', 'x13'), ('x12', 'x13'), ('x13', 'x14'), ('x14', 'x23'), ('x14', 'x15'), ('x23', 'x26'), ('x23', 'x25'), ('x23', 'x24'), ('x26', 'x26'), ('x25', 'x24'), ('x24', 'x27'), ('x24', 'x16'), ('x15', 'x22'), ('x15 ', 'x16'), ('x16', 'x17'), ('x16', 'x21'), ('x17', 'x20'), ('x20', 'x18'), ('x18', 'x19'), ('x20 ', 'x36'), ('x36', 'x34'), ('x36', 'x35'), ('x34', 'x35'), ('x35', 'x31'), ('x31', 'x32'), ('x31', 'x30'), ('x32', 'x30'), ('x32', 'x33'), ('x30', 'x27'), ('x27', 'x28'), ('x28', 'x29'), ('x21', 'x22')])"
            ]
          },
          "metadata": {},
          "execution_count": 23
        }
      ]
    },
    {
      "cell_type": "code",
      "source": [
        "nx.is_weighted(G)"
      ],
      "metadata": {
        "colab": {
          "base_uri": "https://localhost:8080/"
        },
        "id": "rEMEusfWVPHf",
        "outputId": "f73c7436-dde9-4e60-b0d2-68bbea73055c"
      },
      "execution_count": null,
      "outputs": [
        {
          "output_type": "execute_result",
          "data": {
            "text/plain": [
              "True"
            ]
          },
          "metadata": {},
          "execution_count": 24
        }
      ]
    },
    {
      "cell_type": "code",
      "source": [
        "t=nx.minimum_spanning_tree(G)"
      ],
      "metadata": {
        "id": "CiSxDdd6WBjA"
      },
      "execution_count": null,
      "outputs": []
    },
    {
      "cell_type": "code",
      "source": [
        "print(sorted(t.edges(data=True)))"
      ],
      "metadata": {
        "colab": {
          "base_uri": "https://localhost:8080/"
        },
        "id": "Ac88yW6LWW5M",
        "outputId": "91248890-e9f8-4079-a5d4-a4c7add54c28"
      },
      "execution_count": null,
      "outputs": [
        {
          "output_type": "stream",
          "name": "stdout",
          "text": [
            "[('x1', 'x2', {'weight': 50.63392}), ('x10 ', 'x11', {'weight': 266.795944}), ('x11', 'x12', {'weight': 25.434379}), ('x11', 'x13', {'weight': 26.361887}), ('x13', 'x14', {'weight': 124.762776}), ('x14', 'x15', {'weight': 133.163667}), ('x14', 'x23', {'weight': 96.180816}), ('x15', 'x22', {'weight': 176.665742}), ('x15 ', 'x16', {'weight': 212.625349}), ('x16', 'x17', {'weight': 21.731537}), ('x16', 'x21', {'weight': 38.215387}), ('x17', 'x20', {'weight': 119.104671}), ('x18', 'x19', {'weight': 7.429563}), ('x2', 'x3', {'weight': 59.183497}), ('x20', 'x18', {'weight': 28.082878}), ('x20 ', 'x36', {'weight': 113.98941}), ('x23', 'x25', {'weight': 64.175457}), ('x23', 'x26', {'weight': 106.694738}), ('x24', 'x27', {'weight': 80.578573}), ('x25', 'x24', {'weight': 59.270925}), ('x27', 'x28', {'weight': 14.113261}), ('x28', 'x29', {'weight': 61.389468}), ('x3', 'x18', {'weight': 25.208101}), ('x30', 'x27', {'weight': 15.812981}), ('x31', 'x32', {'weight': 15.692786}), ('x32', 'x30', {'weight': 14.179602}), ('x32', 'x33', {'weight': 41.851463}), ('x34', 'x35', {'weight': 19.223611}), ('x35', 'x31', {'weight': 19.830396}), ('x36', 'x34', {'weight': 12.5539}), ('x4', 'x20', {'weight': 30.159549}), ('x4', 'x5', {'weight': 88.621071}), ('x5', 'x36', {'weight': 64.750406}), ('x5 ', 'x6', {'weight': 8.222163}), ('x6', 'x7', {'weight': 20.866163}), ('x7', 'x33', {'weight': 75.597673}), ('x7', 'x8', {'weight': 85.374772}), ('x8', 'x9', {'weight': 48.259641}), ('x9', 'x10', {'weight': 85.669511})]\n"
          ]
        }
      ]
    },
    {
      "cell_type": "code",
      "source": [
        "import matplotlib.pyplot as plt\n",
        "import matplotlib\n",
        "matplotlib.rc('xtick', labelsize=20)\n",
        "nx.draw(t,with_labels = True)\n",
        "#plt.savefig(\"filename.png\")"
      ],
      "metadata": {
        "colab": {
          "base_uri": "https://localhost:8080/",
          "height": 319
        },
        "id": "k_Ae3R4tXLIE",
        "outputId": "8d0ec392-cac8-4a59-a113-216285d1e178"
      },
      "execution_count": null,
      "outputs": [
        {
          "output_type": "display_data",
          "data": {
            "text/plain": [
              "<Figure size 432x288 with 1 Axes>"
            ],
            "image/png": "[encoded data removed]"
          },
          "metadata": {}
        }
      ]
    },
    {
      "cell_type": "markdown",
      "source": [],
      "metadata": {
        "id": "sv6KIBZJCfj4"
      }
    }
  ]
}